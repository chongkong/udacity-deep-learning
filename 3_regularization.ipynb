{
 "cells": [
  {
   "cell_type": "markdown",
   "metadata": {
    "colab_type": "text",
    "id": "kR-4eNdK6lYS"
   },
   "source": [
    "Deep Learning\n",
    "=============\n",
    "\n",
    "Assignment 3\n",
    "------------\n",
    "\n",
    "Previously in `2_fullyconnected.ipynb`, you trained a logistic regression and a neural network model.\n",
    "\n",
    "The goal of this assignment is to explore regularization techniques."
   ]
  },
  {
   "cell_type": "code",
   "execution_count": 1,
   "metadata": {
    "cellView": "both",
    "colab": {
     "autoexec": {
      "startup": false,
      "wait_interval": 0
     }
    },
    "colab_type": "code",
    "collapsed": true,
    "id": "JLpLa8Jt7Vu4"
   },
   "outputs": [],
   "source": [
    "# These are all the modules we'll be using later. Make sure you can import them\n",
    "# before proceeding further.\n",
    "from __future__ import print_function\n",
    "import numpy as np\n",
    "import tensorflow as tf\n",
    "from six.moves import cPickle as pickle"
   ]
  },
  {
   "cell_type": "markdown",
   "metadata": {
    "colab_type": "text",
    "id": "1HrCK6e17WzV"
   },
   "source": [
    "First reload the data we generated in _notmist.ipynb_."
   ]
  },
  {
   "cell_type": "code",
   "execution_count": 2,
   "metadata": {
    "cellView": "both",
    "colab": {
     "autoexec": {
      "startup": false,
      "wait_interval": 0
     },
     "output_extras": [
      {
       "item_id": 1
      }
     ]
    },
    "colab_type": "code",
    "collapsed": false,
    "executionInfo": {
     "elapsed": 11777,
     "status": "ok",
     "timestamp": 1449849322348,
     "user": {
      "color": "",
      "displayName": "",
      "isAnonymous": false,
      "isMe": true,
      "permissionId": "",
      "photoUrl": "",
      "sessionId": "0",
      "userId": ""
     },
     "user_tz": 480
    },
    "id": "y3-cj1bpmuxc",
    "outputId": "e03576f1-ebbe-4838-c388-f1777bcc9873"
   },
   "outputs": [
    {
     "name": "stdout",
     "output_type": "stream",
     "text": [
      "Training set (200000, 28, 28) (200000,)\n",
      "Validation set (10000, 28, 28) (10000,)\n",
      "Test set (10000, 28, 28) (10000,)\n"
     ]
    }
   ],
   "source": [
    "pickle_file = 'notMNIST.pickle'\n",
    "\n",
    "with open(pickle_file, 'rb') as f:\n",
    "    save = pickle.load(f)\n",
    "    train_dataset = save['train_dataset']\n",
    "    train_labels = save['train_labels']\n",
    "    valid_dataset = save['valid_dataset']\n",
    "    valid_labels = save['valid_labels']\n",
    "    test_dataset = save['test_dataset']\n",
    "    test_labels = save['test_labels']\n",
    "    del save  # hint to help gc free up memory\n",
    "    print('Training set', train_dataset.shape, train_labels.shape)\n",
    "    print('Validation set', valid_dataset.shape, valid_labels.shape)\n",
    "    print('Test set', test_dataset.shape, test_labels.shape)"
   ]
  },
  {
   "cell_type": "markdown",
   "metadata": {
    "colab_type": "text",
    "id": "L7aHrm6nGDMB"
   },
   "source": [
    "Reformat into a shape that's more adapted to the models we're going to train:\n",
    "- data as a flat matrix,\n",
    "- labels as float 1-hot encodings."
   ]
  },
  {
   "cell_type": "code",
   "execution_count": 3,
   "metadata": {
    "cellView": "both",
    "colab": {
     "autoexec": {
      "startup": false,
      "wait_interval": 0
     },
     "output_extras": [
      {
       "item_id": 1
      }
     ]
    },
    "colab_type": "code",
    "collapsed": false,
    "executionInfo": {
     "elapsed": 11728,
     "status": "ok",
     "timestamp": 1449849322356,
     "user": {
      "color": "",
      "displayName": "",
      "isAnonymous": false,
      "isMe": true,
      "permissionId": "",
      "photoUrl": "",
      "sessionId": "0",
      "userId": ""
     },
     "user_tz": 480
    },
    "id": "IRSyYiIIGIzS",
    "outputId": "3f8996ee-3574-4f44-c953-5c8a04636582"
   },
   "outputs": [
    {
     "name": "stdout",
     "output_type": "stream",
     "text": [
      "Training set (200000, 784) (200000, 10)\n",
      "Validation set (10000, 784) (10000, 10)\n",
      "Test set (10000, 784) (10000, 10)\n"
     ]
    }
   ],
   "source": [
    "image_size = 28\n",
    "num_labels = 10\n",
    "\n",
    "\n",
    "def reformat(dataset, labels):\n",
    "    dataset = dataset.reshape((-1, image_size * image_size)).astype(np.float32)\n",
    "    # Map 2 to [0.0, 1.0, 0.0 ...], 3 to [0.0, 0.0, 1.0 ...]\n",
    "    labels = (np.arange(num_labels) == labels[:, None]).astype(np.float32)\n",
    "    return dataset, labels\n",
    "\n",
    "train_dataset, train_labels = reformat(train_dataset, train_labels)\n",
    "valid_dataset, valid_labels = reformat(valid_dataset, valid_labels)\n",
    "test_dataset, test_labels = reformat(test_dataset, test_labels)\n",
    "print('Training set', train_dataset.shape, train_labels.shape)\n",
    "print('Validation set', valid_dataset.shape, valid_labels.shape)\n",
    "print('Test set', test_dataset.shape, test_labels.shape)"
   ]
  },
  {
   "cell_type": "code",
   "execution_count": 4,
   "metadata": {
    "cellView": "both",
    "colab": {
     "autoexec": {
      "startup": false,
      "wait_interval": 0
     }
    },
    "colab_type": "code",
    "collapsed": true,
    "id": "RajPLaL_ZW6w"
   },
   "outputs": [],
   "source": [
    "def accuracy(predictions, labels):\n",
    "    return (100.0 * np.sum(np.argmax(predictions, 1) == np.argmax(labels, 1))\n",
    "            / predictions.shape[0])"
   ]
  },
  {
   "cell_type": "markdown",
   "metadata": {
    "colab_type": "text",
    "id": "sgLbUAQ1CW-1"
   },
   "source": [
    "---\n",
    "Problem 1\n",
    "---------\n",
    "\n",
    "Introduce and tune L2 regularization for both logistic and neural network models. Remember that L2 amounts to adding a penalty on the norm of the weights to the loss. In TensorFlow, you can compute the L2 loss for a tensor `t` using `nn.l2_loss(t)`. The right amount of regularization should improve your validation / test accuracy.\n",
    "\n",
    "---"
   ]
  },
  {
   "cell_type": "code",
   "execution_count": 69,
   "metadata": {
    "collapsed": false,
    "scrolled": true
   },
   "outputs": [],
   "source": [
    "image_size = 28 * 28\n",
    "label_size = 10\n",
    "\n",
    "\n",
    "class BaseNN(object):\n",
    "    def __init__(self, hidden_layer_sizes, sgd_batch_size, alpha, num_steps):\n",
    "        self.layer_sizes = [image_size] + hidden_layer_sizes + [label_size]\n",
    "        self.sgd_batch_size = sgd_batch_size\n",
    "        self.alpha = alpha\n",
    "        self.num_steps = num_steps\n",
    "\n",
    "        self.graph = tf.Graph()\n",
    "        with self.graph.as_default():\n",
    "            self.tf_train_dataset = tf.placeholder(tf.float32, shape=(sgd_batch_size, image_size))\n",
    "            self.tf_train_labels = tf.placeholder(tf.float32, shape=(sgd_batch_size, label_size))\n",
    "            self.tf_valid_dataset = tf.constant(valid_dataset)\n",
    "            self.tf_test_dataset = tf.constant(test_dataset)\n",
    "\n",
    "            self.weights = [\n",
    "                tf.Variable(tf.truncated_normal([self.layer_sizes[i], self.layer_sizes[i + 1]]))\n",
    "                for i in range(len(self.layer_sizes) - 1)]\n",
    "            self.biases = [\n",
    "                tf.Variable(tf.zeros([self.layer_sizes[i + 1]]))\n",
    "                for i in range(len(self.layer_sizes) - 1)]\n",
    "\n",
    "            logits = self.forward_prop_train(self.tf_train_dataset)\n",
    "            self.loss = self.calculate_loss(logits, self.tf_train_labels)\n",
    "            self.optimizer = tf.train.GradientDescentOptimizer(alpha).minimize(self.loss)\n",
    "\n",
    "            self.train_prediction = tf.nn.softmax(logits)\n",
    "            self.valid_prediction = tf.nn.softmax(self.forward_prop(self.tf_valid_dataset))\n",
    "            self.test_prediction = tf.nn.softmax(self.forward_prop(self.tf_test_dataset))\n",
    "\n",
    "    def forward_prop(self, tf_dataset):\n",
    "        res = tf_dataset\n",
    "        for i in range(len(self.weights)):\n",
    "            res = tf.nn.relu(res) if i > 0 else res\n",
    "            res = tf.matmul(res, self.weights[i]) + self.biases[i]\n",
    "        return res\n",
    "\n",
    "    def forward_prop_train(self, tf_dataset):\n",
    "        return self.forward_prop(tf_dataset)\n",
    "\n",
    "    def calculate_loss(self, logits, labels):\n",
    "        return tf.reduce_mean(tf.nn.softmax_cross_entropy_with_logits(logits, labels))\n",
    "\n",
    "    def fit(self, train_dataset, train_labels, log_every=500):\n",
    "        with tf.Session(graph=self.graph) as session:\n",
    "            tf.initialize_all_variables().run()\n",
    "            print('Initialized')\n",
    "\n",
    "            for step in range(self.num_steps):\n",
    "                random_indices = np.random.choice(\n",
    "                    train_dataset.shape[0], self.sgd_batch_size)\n",
    "                batch_data = train_dataset[random_indices]\n",
    "                batch_labels = train_labels[random_indices]\n",
    "\n",
    "                _, l, predictions = session.run(\n",
    "                    [self.optimizer, self.loss, self.train_prediction],\n",
    "                    feed_dict={\n",
    "                        self.tf_train_dataset: batch_data,\n",
    "                        self.tf_train_labels: batch_labels})\n",
    "\n",
    "                if (step % log_every == 0):\n",
    "                    print(\"Minibatch loss at step %d: %f\" % (step, l))\n",
    "                    print(\"Minibatch accuracy: %.1f%%\" % accuracy(predictions, batch_labels))\n",
    "                    print(\"Validation accuracy: %.1f%%\" % accuracy(self.valid_prediction.eval(), valid_labels))\n",
    "            print(\"Test accuracy: %.1f%%\" % accuracy(self.test_prediction.eval(), test_labels))\n",
    "\n",
    "\n",
    "class L2LossNN(BaseNN):\n",
    "    def __init__(self, *args, **kwargs):\n",
    "        self.beta = kwargs.pop('beta')\n",
    "        super(L2LossNN, self).__init__(*args, **kwargs)\n",
    "    \n",
    "    def calculate_loss(self, logits, labels):\n",
    "        return tf.reduce_mean(\n",
    "            tf.nn.softmax_cross_entropy_with_logits(logits, labels) +\n",
    "            self.beta * tf.add_n([tf.nn.l2_loss(w) for w in self.weights + self.biases]))\n",
    "    "
   ]
  },
  {
   "cell_type": "code",
   "execution_count": 52,
   "metadata": {
    "collapsed": false
   },
   "outputs": [
    {
     "name": "stdout",
     "output_type": "stream",
     "text": [
      "Initialized\n",
      "Minibatch loss at step 0: 288.164062\n",
      "Minibatch accuracy: 6.2%\n",
      "Validation accuracy: 32.2%\n",
      "Minibatch loss at step 500: 50.046463\n",
      "Minibatch accuracy: 73.4%\n",
      "Validation accuracy: 75.5%\n",
      "Minibatch loss at step 1000: 29.446426\n",
      "Minibatch accuracy: 75.0%\n",
      "Validation accuracy: 79.6%\n",
      "Minibatch loss at step 1500: 17.567398\n",
      "Minibatch accuracy: 85.9%\n",
      "Validation accuracy: 82.6%\n",
      "Minibatch loss at step 2000: 10.677494\n",
      "Minibatch accuracy: 87.5%\n",
      "Validation accuracy: 83.6%\n",
      "Minibatch loss at step 2500: 6.784433\n",
      "Minibatch accuracy: 81.2%\n",
      "Validation accuracy: 84.0%\n",
      "Minibatch loss at step 3000: 4.206826\n",
      "Minibatch accuracy: 84.4%\n",
      "Validation accuracy: 85.8%\n",
      "Minibatch loss at step 3500: 2.705393\n",
      "Minibatch accuracy: 89.8%\n",
      "Validation accuracy: 86.4%\n",
      "Minibatch loss at step 4000: 1.865380\n",
      "Minibatch accuracy: 85.2%\n",
      "Validation accuracy: 87.3%\n",
      "Minibatch loss at step 4500: 1.306390\n",
      "Minibatch accuracy: 88.3%\n",
      "Validation accuracy: 87.5%\n",
      "Minibatch loss at step 5000: 0.884554\n",
      "Minibatch accuracy: 90.6%\n",
      "Validation accuracy: 87.7%\n",
      "Minibatch loss at step 5500: 0.909795\n",
      "Minibatch accuracy: 82.8%\n",
      "Validation accuracy: 86.7%\n",
      "Minibatch loss at step 6000: 0.694114\n",
      "Minibatch accuracy: 87.5%\n",
      "Validation accuracy: 87.9%\n",
      "Minibatch loss at step 6500: 0.572708\n",
      "Minibatch accuracy: 89.1%\n",
      "Validation accuracy: 88.3%\n",
      "Minibatch loss at step 7000: 0.407042\n",
      "Minibatch accuracy: 91.4%\n",
      "Validation accuracy: 88.0%\n",
      "Minibatch loss at step 7500: 0.484905\n",
      "Minibatch accuracy: 89.8%\n",
      "Validation accuracy: 88.0%\n",
      "Minibatch loss at step 8000: 0.487028\n",
      "Minibatch accuracy: 89.1%\n",
      "Validation accuracy: 88.2%\n",
      "Minibatch loss at step 8500: 0.579990\n",
      "Minibatch accuracy: 88.3%\n",
      "Validation accuracy: 87.9%\n",
      "Minibatch loss at step 9000: 0.510244\n",
      "Minibatch accuracy: 88.3%\n",
      "Validation accuracy: 87.3%\n",
      "Minibatch loss at step 9500: 0.488776\n",
      "Minibatch accuracy: 89.1%\n",
      "Validation accuracy: 87.9%\n",
      "Minibatch loss at step 10000: 0.340494\n",
      "Minibatch accuracy: 95.3%\n",
      "Validation accuracy: 88.3%\n",
      "Test accuracy: 94.2%\n"
     ]
    }
   ],
   "source": [
    "L2LossNN(\n",
    "    hidden_layer_sizes=[256], \n",
    "    sgd_batch_size=128,\n",
    "    alpha=0.5, \n",
    "    beta=0.001, \n",
    "    num_steps=10001\n",
    ").fit(train_dataset, train_labels)"
   ]
  },
  {
   "cell_type": "code",
   "execution_count": 70,
   "metadata": {
    "collapsed": false
   },
   "outputs": [
    {
     "name": "stdout",
     "output_type": "stream",
     "text": [
      "Initialized\n",
      "Minibatch loss at step 0: 774.489807\n",
      "Minibatch accuracy: 11.7%\n",
      "Validation accuracy: 23.1%\n",
      "Minibatch loss at step 1500: 64.914047\n",
      "Minibatch accuracy: 33.6%\n",
      "Validation accuracy: 35.0%\n",
      "Minibatch loss at step 3000: 47.833633\n",
      "Minibatch accuracy: 57.8%\n",
      "Validation accuracy: 54.8%\n",
      "Minibatch loss at step 4500: 35.786533\n",
      "Minibatch accuracy: 61.7%\n",
      "Validation accuracy: 61.3%\n",
      "Minibatch loss at step 6000: 26.739397\n",
      "Minibatch accuracy: 61.7%\n",
      "Validation accuracy: 67.1%\n",
      "Minibatch loss at step 7500: 19.662354\n",
      "Minibatch accuracy: 74.2%\n",
      "Validation accuracy: 74.3%\n",
      "Minibatch loss at step 9000: 14.706854\n",
      "Minibatch accuracy: 78.9%\n",
      "Validation accuracy: 79.1%\n",
      "Minibatch loss at step 10500: 10.824858\n",
      "Minibatch accuracy: 86.7%\n",
      "Validation accuracy: 82.2%\n",
      "Minibatch loss at step 12000: 8.275635\n",
      "Minibatch accuracy: 82.0%\n",
      "Validation accuracy: 83.9%\n",
      "Minibatch loss at step 13500: 6.082581\n",
      "Minibatch accuracy: 87.5%\n",
      "Validation accuracy: 85.1%\n",
      "Minibatch loss at step 15000: 4.679677\n",
      "Minibatch accuracy: 86.7%\n",
      "Validation accuracy: 85.3%\n",
      "Minibatch loss at step 16500: 3.522124\n",
      "Minibatch accuracy: 89.1%\n",
      "Validation accuracy: 85.8%\n",
      "Minibatch loss at step 18000: 2.912477\n",
      "Minibatch accuracy: 82.8%\n",
      "Validation accuracy: 86.0%\n",
      "Minibatch loss at step 19500: 2.126957\n",
      "Minibatch accuracy: 89.8%\n",
      "Validation accuracy: 86.6%\n",
      "Minibatch loss at step 21000: 1.707841\n",
      "Minibatch accuracy: 88.3%\n",
      "Validation accuracy: 87.2%\n",
      "Minibatch loss at step 22500: 1.386352\n",
      "Minibatch accuracy: 88.3%\n",
      "Validation accuracy: 87.5%\n",
      "Minibatch loss at step 24000: 1.089219\n",
      "Minibatch accuracy: 89.1%\n",
      "Validation accuracy: 87.8%\n",
      "Minibatch loss at step 25500: 0.961479\n",
      "Minibatch accuracy: 89.1%\n",
      "Validation accuracy: 87.9%\n",
      "Minibatch loss at step 27000: 0.761147\n",
      "Minibatch accuracy: 91.4%\n",
      "Validation accuracy: 88.2%\n",
      "Minibatch loss at step 28500: 0.745571\n",
      "Minibatch accuracy: 87.5%\n",
      "Validation accuracy: 89.0%\n",
      "Minibatch loss at step 30000: 0.580694\n",
      "Minibatch accuracy: 89.1%\n",
      "Validation accuracy: 89.0%\n",
      "Test accuracy: 94.5%\n"
     ]
    }
   ],
   "source": [
    "L2LossNN(\n",
    "    hidden_layer_sizes=[256, 64], \n",
    "    sgd_batch_size=128, \n",
    "    alpha=0.1, \n",
    "    beta=0.001, \n",
    "    num_steps=30001\n",
    ").fit(train_dataset, train_labels, log_every=1500)"
   ]
  },
  {
   "cell_type": "markdown",
   "metadata": {
    "colab_type": "text",
    "id": "na8xX2yHZzNF"
   },
   "source": [
    "---\n",
    "Problem 2\n",
    "---------\n",
    "Let's demonstrate an extreme case of overfitting. Restrict your training data to just a few batches. What happens?\n",
    "\n",
    "---"
   ]
  },
  {
   "cell_type": "code",
   "execution_count": 58,
   "metadata": {
    "collapsed": false
   },
   "outputs": [
    {
     "name": "stdout",
     "output_type": "stream",
     "text": [
      "Initialized\n",
      "Minibatch loss at step 0: 161.214417\n",
      "Minibatch accuracy: 7.8%\n",
      "Validation accuracy: 34.4%\n",
      "Minibatch loss at step 200: 0.399056\n",
      "Minibatch accuracy: 97.7%\n",
      "Validation accuracy: 76.4%\n",
      "Minibatch loss at step 400: 0.002355\n",
      "Minibatch accuracy: 100.0%\n",
      "Validation accuracy: 76.6%\n",
      "Minibatch loss at step 600: 3.052499\n",
      "Minibatch accuracy: 96.1%\n",
      "Validation accuracy: 76.9%\n",
      "Minibatch loss at step 800: 0.004029\n",
      "Minibatch accuracy: 100.0%\n",
      "Validation accuracy: 77.4%\n",
      "Minibatch loss at step 1000: 0.000009\n",
      "Minibatch accuracy: 100.0%\n",
      "Validation accuracy: 77.3%\n",
      "Minibatch loss at step 1200: 0.106549\n",
      "Minibatch accuracy: 99.2%\n",
      "Validation accuracy: 77.2%\n",
      "Minibatch loss at step 1400: 2.994856\n",
      "Minibatch accuracy: 99.2%\n",
      "Validation accuracy: 77.1%\n",
      "Minibatch loss at step 1600: 0.000206\n",
      "Minibatch accuracy: 100.0%\n",
      "Validation accuracy: 77.1%\n",
      "Minibatch loss at step 1800: 0.000001\n",
      "Minibatch accuracy: 100.0%\n",
      "Validation accuracy: 77.1%\n",
      "Minibatch loss at step 2000: 0.000053\n",
      "Minibatch accuracy: 100.0%\n",
      "Validation accuracy: 77.0%\n",
      "Test accuracy: 84.2%\n"
     ]
    }
   ],
   "source": [
    "# No regularization with only 3000 samples; heavily overfitted\n",
    "\n",
    "L2LossNN(\n",
    "    hidden_layer_sizes=[256], \n",
    "    sgd_batch_size=128,\n",
    "    alpha=0.5, \n",
    "    beta=0, \n",
    "    num_steps=2001\n",
    ").fit(train_dataset[:3000], train_labels[:3000], log_every=200)"
   ]
  },
  {
   "cell_type": "code",
   "execution_count": 60,
   "metadata": {
    "collapsed": false
   },
   "outputs": [
    {
     "name": "stdout",
     "output_type": "stream",
     "text": [
      "Initialized\n",
      "Minibatch loss at step 0: 949.289307\n",
      "Minibatch accuracy: 9.4%\n",
      "Validation accuracy: 31.1%\n",
      "Minibatch loss at step 500: 5.648594\n",
      "Minibatch accuracy: 98.4%\n",
      "Validation accuracy: 81.9%\n",
      "Minibatch loss at step 1000: 0.618355\n",
      "Minibatch accuracy: 92.2%\n",
      "Validation accuracy: 82.3%\n",
      "Minibatch loss at step 1500: 0.567008\n",
      "Minibatch accuracy: 95.3%\n",
      "Validation accuracy: 82.2%\n",
      "Minibatch loss at step 2000: 0.618557\n",
      "Minibatch accuracy: 92.2%\n",
      "Validation accuracy: 82.1%\n",
      "Minibatch loss at step 2500: 0.574018\n",
      "Minibatch accuracy: 96.1%\n",
      "Validation accuracy: 81.7%\n",
      "Minibatch loss at step 3000: 0.535748\n",
      "Minibatch accuracy: 95.3%\n",
      "Validation accuracy: 82.6%\n",
      "Minibatch loss at step 3500: 0.563654\n",
      "Minibatch accuracy: 95.3%\n",
      "Validation accuracy: 81.6%\n",
      "Minibatch loss at step 4000: 0.621553\n",
      "Minibatch accuracy: 95.3%\n",
      "Validation accuracy: 82.4%\n",
      "Minibatch loss at step 4500: 0.577981\n",
      "Minibatch accuracy: 94.5%\n",
      "Validation accuracy: 80.8%\n",
      "Minibatch loss at step 5000: 0.559099\n",
      "Minibatch accuracy: 93.8%\n",
      "Validation accuracy: 81.5%\n",
      "Test accuracy: 88.0%\n"
     ]
    }
   ],
   "source": [
    "# With some regularization; less overfitted than above one\n",
    "\n",
    "L2LossNN(\n",
    "    hidden_layer_sizes=[256], \n",
    "    sgd_batch_size=128,\n",
    "    alpha=0.5, \n",
    "    beta=0.01,\n",
    "    num_steps=5001\n",
    ").fit(train_dataset[:3000], train_labels[:3000])"
   ]
  },
  {
   "cell_type": "markdown",
   "metadata": {
    "colab_type": "text",
    "id": "ww3SCBUdlkRc"
   },
   "source": [
    "---\n",
    "Problem 3\n",
    "---------\n",
    "Introduce Dropout on the hidden layer of the neural network. Remember: Dropout should only be introduced during training, not evaluation, otherwise your evaluation results would be stochastic as well. TensorFlow provides `nn.dropout()` for that, but you have to make sure it's only inserted during training.\n",
    "\n",
    "What happens to our extreme overfitting case?\n",
    "\n",
    "---"
   ]
  },
  {
   "cell_type": "code",
   "execution_count": 76,
   "metadata": {
    "collapsed": true
   },
   "outputs": [],
   "source": [
    "class DropoutNN(BaseNN):\n",
    "    def __init__(self, *args, **kwargs):\n",
    "        self.keep_prob = kwargs.pop('keep_prob')\n",
    "        super(DropoutNN, self).__init__(*args, **kwargs)\n",
    "\n",
    "    def forward_prop_train(self, tf_dataset):\n",
    "        res = tf_dataset\n",
    "        for i in range(len(self.weights)):\n",
    "            res = tf.nn.dropout(tf.nn.relu(res), self.keep_prob) if i > 0 else res\n",
    "            res = tf.matmul(res, self.weights[i]) + self.biases[i]\n",
    "        return res\n",
    "            "
   ]
  },
  {
   "cell_type": "code",
   "execution_count": 78,
   "metadata": {
    "collapsed": false
   },
   "outputs": [
    {
     "name": "stdout",
     "output_type": "stream",
     "text": [
      "Initialized\n",
      "Minibatch loss at step 0: 234.625916\n",
      "Minibatch accuracy: 7.8%\n",
      "Validation accuracy: 31.4%\n",
      "Minibatch loss at step 500: 2.816261\n",
      "Minibatch accuracy: 82.8%\n",
      "Validation accuracy: 77.3%\n",
      "Minibatch loss at step 1000: 1.083063\n",
      "Minibatch accuracy: 88.3%\n",
      "Validation accuracy: 78.5%\n",
      "Minibatch loss at step 1500: 3.001185\n",
      "Minibatch accuracy: 93.8%\n",
      "Validation accuracy: 79.0%\n",
      "Minibatch loss at step 2000: 0.058738\n",
      "Minibatch accuracy: 96.9%\n",
      "Validation accuracy: 79.0%\n",
      "Minibatch loss at step 2500: 0.336682\n",
      "Minibatch accuracy: 93.8%\n",
      "Validation accuracy: 79.7%\n",
      "Minibatch loss at step 3000: 0.080011\n",
      "Minibatch accuracy: 96.9%\n",
      "Validation accuracy: 79.4%\n",
      "Minibatch loss at step 3500: 0.532647\n",
      "Minibatch accuracy: 96.9%\n",
      "Validation accuracy: 79.2%\n",
      "Minibatch loss at step 4000: 0.484350\n",
      "Minibatch accuracy: 96.1%\n",
      "Validation accuracy: 79.8%\n",
      "Minibatch loss at step 4500: 0.109667\n",
      "Minibatch accuracy: 96.9%\n",
      "Validation accuracy: 80.0%\n",
      "Minibatch loss at step 5000: 0.140859\n",
      "Minibatch accuracy: 95.3%\n",
      "Validation accuracy: 79.7%\n",
      "Test accuracy: 86.8%\n"
     ]
    }
   ],
   "source": [
    "DropoutNN(\n",
    "    hidden_layer_sizes=[256], \n",
    "    sgd_batch_size=128,\n",
    "    alpha=0.5, \n",
    "    keep_prob=0.5,\n",
    "    num_steps=5001\n",
    ").fit(train_dataset[:3000], train_labels[:3000])"
   ]
  },
  {
   "cell_type": "markdown",
   "metadata": {
    "colab_type": "text",
    "id": "-b1hTz3VWZjw"
   },
   "source": [
    "---\n",
    "Problem 4\n",
    "---------\n",
    "\n",
    "Try to get the best performance you can using a multi-layer model! The best reported test accuracy using a deep network is [97.1%](http://yaroslavvb.blogspot.com/2011/09/notmnist-dataset.html?showComment=1391023266211#c8758720086795711595).\n",
    "\n",
    "One avenue you can explore is to add multiple layers.\n",
    "\n",
    "Another one is to use learning rate decay:\n",
    "\n",
    "    global_step = tf.Variable(0)  # count the number of steps taken.\n",
    "    learning_rate = tf.train.exponential_decay(0.5, global_step, ...)\n",
    "    optimizer = tf.train.GradientDescentOptimizer(learning_rate).minimize(loss, global_step=global_step)\n",
    " \n",
    " ---\n"
   ]
  },
  {
   "cell_type": "code",
   "execution_count": null,
   "metadata": {
    "collapsed": true
   },
   "outputs": [],
   "source": [
    "DropoutNN(\n",
    "    hidden_layer_sizes=[256, 64], \n",
    "    sgd_batch_size=128,\n",
    "    alpha=0.1, \n",
    "    keep_prob=0.5,\n",
    "    num_steps=5001\n",
    ").fit(train_dataset[:3000], train_labels[:3000])"
   ]
  }
 ],
 "metadata": {
  "colab": {
   "default_view": {},
   "name": "3_regularization.ipynb",
   "provenance": [],
   "version": "0.3.2",
   "views": {}
  },
  "kernelspec": {
   "display_name": "Python 2",
   "language": "python",
   "name": "python2"
  },
  "language_info": {
   "codemirror_mode": {
    "name": "ipython",
    "version": 2
   },
   "file_extension": ".py",
   "mimetype": "text/x-python",
   "name": "python",
   "nbconvert_exporter": "python",
   "pygments_lexer": "ipython2",
   "version": "2.7.6"
  }
 },
 "nbformat": 4,
 "nbformat_minor": 0
}
